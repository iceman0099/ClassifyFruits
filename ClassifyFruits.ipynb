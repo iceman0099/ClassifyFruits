{
 "cells": [
  {
   "cell_type": "code",
   "execution_count": 1,
   "id": "f148aad7",
   "metadata": {
    "_cell_guid": "b1076dfc-b9ad-4769-8c92-a6c4dae69d19",
    "_uuid": "8f2839f25d086af736a60e9eeb907d3b93b6e0e5",
    "execution": {
     "iopub.execute_input": "2024-08-18T22:25:03.630569Z",
     "iopub.status.busy": "2024-08-18T22:25:03.629532Z",
     "iopub.status.idle": "2024-08-18T22:25:04.639028Z",
     "shell.execute_reply": "2024-08-18T22:25:04.637563Z"
    },
    "papermill": {
     "duration": 1.020425,
     "end_time": "2024-08-18T22:25:04.641906",
     "exception": false,
     "start_time": "2024-08-18T22:25:03.621481",
     "status": "completed"
    },
    "tags": []
   },
   "outputs": [
    {
     "name": "stdout",
     "output_type": "stream",
     "text": [
      "/kaggle/input/fruitsml1/sample_submission.csv\n",
      "/kaggle/input/fruitsml1/fruits_test.csv\n",
      "/kaggle/input/fruitsml1/fruits_train.csv\n",
      "/kaggle/input/classify-fruits-fall-2024-25-b-1/sample_submission.csv\n",
      "/kaggle/input/classify-fruits-fall-2024-25-b-1/fruits_test.csv\n",
      "/kaggle/input/classify-fruits-fall-2024-25-b-1/fruits_train.csv\n"
     ]
    }
   ],
   "source": [
    "# This Python 3 environment comes with many helpful analytics libraries installed\n",
    "# It is defined by the kaggle/python Docker image: https://github.com/kaggle/docker-python\n",
    "# For example, here's several helpful packages to load\n",
    "\n",
    "import numpy as np # linear algebra\n",
    "import pandas as pd # data processing, CSV file I/O (e.g. pd.read_csv)\n",
    "\n",
    "# Input data files are available in the read-only \"../input/\" directory\n",
    "# For example, running this (by clicking run or pressing Shift+Enter) will list all files under the input directory\n",
    "\n",
    "import os\n",
    "for dirname, _, filenames in os.walk('/kaggle/input'):\n",
    "    for filename in filenames:\n",
    "        print(os.path.join(dirname, filename))\n",
    "\n",
    "# You can write up to 20GB to the current directory (/kaggle/working/) that gets preserved as output when you create a version using \"Save & Run All\" \n",
    "# You can also write temporary files to /kaggle/temp/, but they won't be saved outside of the current session"
   ]
  },
  {
   "cell_type": "code",
   "execution_count": 2,
   "id": "edda9dad",
   "metadata": {
    "execution": {
     "iopub.execute_input": "2024-08-18T22:25:04.655191Z",
     "iopub.status.busy": "2024-08-18T22:25:04.654712Z",
     "iopub.status.idle": "2024-08-18T22:25:06.549887Z",
     "shell.execute_reply": "2024-08-18T22:25:06.548915Z"
    },
    "papermill": {
     "duration": 1.904831,
     "end_time": "2024-08-18T22:25:06.552424",
     "exception": false,
     "start_time": "2024-08-18T22:25:04.647593",
     "status": "completed"
    },
    "tags": []
   },
   "outputs": [],
   "source": [
    "import numpy as np\n",
    "import pandas as pd\n",
    "import matplotlib.pyplot as plt\n",
    "from sklearn.datasets import load_iris\n",
    "from sklearn.model_selection import train_test_split\n",
    "from sklearn.neighbors import KNeighborsClassifier\n",
    "from sklearn.ensemble import RandomForestClassifier\n",
    "from sklearn.metrics import accuracy_score, confusion_matrix, classification_report"
   ]
  },
  {
   "cell_type": "code",
   "execution_count": 3,
   "id": "20dbf76b",
   "metadata": {
    "execution": {
     "iopub.execute_input": "2024-08-18T22:25:06.565089Z",
     "iopub.status.busy": "2024-08-18T22:25:06.564719Z",
     "iopub.status.idle": "2024-08-18T22:25:06.601363Z",
     "shell.execute_reply": "2024-08-18T22:25:06.600256Z"
    },
    "papermill": {
     "duration": 0.04586,
     "end_time": "2024-08-18T22:25:06.603852",
     "exception": false,
     "start_time": "2024-08-18T22:25:06.557992",
     "status": "completed"
    },
    "tags": []
   },
   "outputs": [
    {
     "data": {
      "text/html": [
       "<div>\n",
       "<style scoped>\n",
       "    .dataframe tbody tr th:only-of-type {\n",
       "        vertical-align: middle;\n",
       "    }\n",
       "\n",
       "    .dataframe tbody tr th {\n",
       "        vertical-align: top;\n",
       "    }\n",
       "\n",
       "    .dataframe thead th {\n",
       "        text-align: right;\n",
       "    }\n",
       "</style>\n",
       "<table border=\"1\" class=\"dataframe\">\n",
       "  <thead>\n",
       "    <tr style=\"text-align: right;\">\n",
       "      <th></th>\n",
       "      <th>Id</th>\n",
       "      <th>mass</th>\n",
       "      <th>width</th>\n",
       "      <th>height</th>\n",
       "      <th>label</th>\n",
       "    </tr>\n",
       "  </thead>\n",
       "  <tbody>\n",
       "    <tr>\n",
       "      <th>0</th>\n",
       "      <td>1</td>\n",
       "      <td>160</td>\n",
       "      <td>7.1</td>\n",
       "      <td>7.6</td>\n",
       "      <td>2</td>\n",
       "    </tr>\n",
       "    <tr>\n",
       "      <th>1</th>\n",
       "      <td>2</td>\n",
       "      <td>194</td>\n",
       "      <td>7.2</td>\n",
       "      <td>10.3</td>\n",
       "      <td>3</td>\n",
       "    </tr>\n",
       "    <tr>\n",
       "      <th>2</th>\n",
       "      <td>3</td>\n",
       "      <td>154</td>\n",
       "      <td>7.2</td>\n",
       "      <td>7.2</td>\n",
       "      <td>2</td>\n",
       "    </tr>\n",
       "    <tr>\n",
       "      <th>3</th>\n",
       "      <td>4</td>\n",
       "      <td>154</td>\n",
       "      <td>7.0</td>\n",
       "      <td>7.1</td>\n",
       "      <td>1</td>\n",
       "    </tr>\n",
       "    <tr>\n",
       "      <th>4</th>\n",
       "      <td>5</td>\n",
       "      <td>162</td>\n",
       "      <td>7.4</td>\n",
       "      <td>7.2</td>\n",
       "      <td>1</td>\n",
       "    </tr>\n",
       "    <tr>\n",
       "      <th>5</th>\n",
       "      <td>6</td>\n",
       "      <td>164</td>\n",
       "      <td>7.2</td>\n",
       "      <td>7.0</td>\n",
       "      <td>2</td>\n",
       "    </tr>\n",
       "    <tr>\n",
       "      <th>6</th>\n",
       "      <td>7</td>\n",
       "      <td>154</td>\n",
       "      <td>7.1</td>\n",
       "      <td>7.5</td>\n",
       "      <td>2</td>\n",
       "    </tr>\n",
       "    <tr>\n",
       "      <th>7</th>\n",
       "      <td>8</td>\n",
       "      <td>116</td>\n",
       "      <td>6.1</td>\n",
       "      <td>8.5</td>\n",
       "      <td>3</td>\n",
       "    </tr>\n",
       "    <tr>\n",
       "      <th>8</th>\n",
       "      <td>9</td>\n",
       "      <td>170</td>\n",
       "      <td>7.6</td>\n",
       "      <td>7.9</td>\n",
       "      <td>1</td>\n",
       "    </tr>\n",
       "    <tr>\n",
       "      <th>9</th>\n",
       "      <td>10</td>\n",
       "      <td>116</td>\n",
       "      <td>5.9</td>\n",
       "      <td>8.1</td>\n",
       "      <td>3</td>\n",
       "    </tr>\n",
       "  </tbody>\n",
       "</table>\n",
       "</div>"
      ],
      "text/plain": [
       "   Id  mass  width  height  label\n",
       "0   1   160    7.1     7.6      2\n",
       "1   2   194    7.2    10.3      3\n",
       "2   3   154    7.2     7.2      2\n",
       "3   4   154    7.0     7.1      1\n",
       "4   5   162    7.4     7.2      1\n",
       "5   6   164    7.2     7.0      2\n",
       "6   7   154    7.1     7.5      2\n",
       "7   8   116    6.1     8.5      3\n",
       "8   9   170    7.6     7.9      1\n",
       "9  10   116    5.9     8.1      3"
      ]
     },
     "execution_count": 3,
     "metadata": {},
     "output_type": "execute_result"
    }
   ],
   "source": [
    "dataset = pd.read_csv(\"/kaggle/input/fruitsml1/fruits_train.csv\")\n",
    "dataset.head(10)"
   ]
  },
  {
   "cell_type": "code",
   "execution_count": 4,
   "id": "0fb17b41",
   "metadata": {
    "execution": {
     "iopub.execute_input": "2024-08-18T22:25:06.617266Z",
     "iopub.status.busy": "2024-08-18T22:25:06.616853Z",
     "iopub.status.idle": "2024-08-18T22:25:06.633562Z",
     "shell.execute_reply": "2024-08-18T22:25:06.632376Z"
    },
    "papermill": {
     "duration": 0.026385,
     "end_time": "2024-08-18T22:25:06.636152",
     "exception": false,
     "start_time": "2024-08-18T22:25:06.609767",
     "status": "completed"
    },
    "tags": []
   },
   "outputs": [
    {
     "data": {
      "text/html": [
       "<div>\n",
       "<style scoped>\n",
       "    .dataframe tbody tr th:only-of-type {\n",
       "        vertical-align: middle;\n",
       "    }\n",
       "\n",
       "    .dataframe tbody tr th {\n",
       "        vertical-align: top;\n",
       "    }\n",
       "\n",
       "    .dataframe thead th {\n",
       "        text-align: right;\n",
       "    }\n",
       "</style>\n",
       "<table border=\"1\" class=\"dataframe\">\n",
       "  <thead>\n",
       "    <tr style=\"text-align: right;\">\n",
       "      <th></th>\n",
       "      <th>Id</th>\n",
       "      <th>mass</th>\n",
       "      <th>width</th>\n",
       "      <th>height</th>\n",
       "    </tr>\n",
       "  </thead>\n",
       "  <tbody>\n",
       "    <tr>\n",
       "      <th>0</th>\n",
       "      <td>1</td>\n",
       "      <td>118</td>\n",
       "      <td>6.1</td>\n",
       "      <td>8.1</td>\n",
       "    </tr>\n",
       "    <tr>\n",
       "      <th>1</th>\n",
       "      <td>2</td>\n",
       "      <td>158</td>\n",
       "      <td>7.2</td>\n",
       "      <td>7.8</td>\n",
       "    </tr>\n",
       "    <tr>\n",
       "      <th>2</th>\n",
       "      <td>3</td>\n",
       "      <td>120</td>\n",
       "      <td>6.0</td>\n",
       "      <td>8.4</td>\n",
       "    </tr>\n",
       "    <tr>\n",
       "      <th>3</th>\n",
       "      <td>4</td>\n",
       "      <td>210</td>\n",
       "      <td>7.8</td>\n",
       "      <td>8.0</td>\n",
       "    </tr>\n",
       "    <tr>\n",
       "      <th>4</th>\n",
       "      <td>5</td>\n",
       "      <td>156</td>\n",
       "      <td>7.6</td>\n",
       "      <td>7.5</td>\n",
       "    </tr>\n",
       "    <tr>\n",
       "      <th>5</th>\n",
       "      <td>6</td>\n",
       "      <td>176</td>\n",
       "      <td>7.4</td>\n",
       "      <td>7.2</td>\n",
       "    </tr>\n",
       "    <tr>\n",
       "      <th>6</th>\n",
       "      <td>7</td>\n",
       "      <td>154</td>\n",
       "      <td>7.3</td>\n",
       "      <td>7.3</td>\n",
       "    </tr>\n",
       "    <tr>\n",
       "      <th>7</th>\n",
       "      <td>8</td>\n",
       "      <td>196</td>\n",
       "      <td>7.3</td>\n",
       "      <td>9.7</td>\n",
       "    </tr>\n",
       "    <tr>\n",
       "      <th>8</th>\n",
       "      <td>9</td>\n",
       "      <td>130</td>\n",
       "      <td>6.0</td>\n",
       "      <td>8.2</td>\n",
       "    </tr>\n",
       "    <tr>\n",
       "      <th>9</th>\n",
       "      <td>10</td>\n",
       "      <td>150</td>\n",
       "      <td>7.1</td>\n",
       "      <td>7.9</td>\n",
       "    </tr>\n",
       "  </tbody>\n",
       "</table>\n",
       "</div>"
      ],
      "text/plain": [
       "   Id  mass  width  height\n",
       "0   1   118    6.1     8.1\n",
       "1   2   158    7.2     7.8\n",
       "2   3   120    6.0     8.4\n",
       "3   4   210    7.8     8.0\n",
       "4   5   156    7.6     7.5\n",
       "5   6   176    7.4     7.2\n",
       "6   7   154    7.3     7.3\n",
       "7   8   196    7.3     9.7\n",
       "8   9   130    6.0     8.2\n",
       "9  10   150    7.1     7.9"
      ]
     },
     "execution_count": 4,
     "metadata": {},
     "output_type": "execute_result"
    }
   ],
   "source": [
    "test = pd.read_csv(\"/kaggle/input/fruitsml1/fruits_test.csv\")\n",
    "test.head(10)"
   ]
  },
  {
   "cell_type": "code",
   "execution_count": 5,
   "id": "1ac2858e",
   "metadata": {
    "execution": {
     "iopub.execute_input": "2024-08-18T22:25:06.651175Z",
     "iopub.status.busy": "2024-08-18T22:25:06.650130Z",
     "iopub.status.idle": "2024-08-18T22:25:06.665708Z",
     "shell.execute_reply": "2024-08-18T22:25:06.664452Z"
    },
    "papermill": {
     "duration": 0.026407,
     "end_time": "2024-08-18T22:25:06.668719",
     "exception": false,
     "start_time": "2024-08-18T22:25:06.642312",
     "status": "completed"
    },
    "tags": []
   },
   "outputs": [
    {
     "data": {
      "text/html": [
       "<div>\n",
       "<style scoped>\n",
       "    .dataframe tbody tr th:only-of-type {\n",
       "        vertical-align: middle;\n",
       "    }\n",
       "\n",
       "    .dataframe tbody tr th {\n",
       "        vertical-align: top;\n",
       "    }\n",
       "\n",
       "    .dataframe thead th {\n",
       "        text-align: right;\n",
       "    }\n",
       "</style>\n",
       "<table border=\"1\" class=\"dataframe\">\n",
       "  <thead>\n",
       "    <tr style=\"text-align: right;\">\n",
       "      <th></th>\n",
       "      <th>ID</th>\n",
       "      <th>Category</th>\n",
       "    </tr>\n",
       "  </thead>\n",
       "  <tbody>\n",
       "    <tr>\n",
       "      <th>0</th>\n",
       "      <td>1</td>\n",
       "      <td>1</td>\n",
       "    </tr>\n",
       "    <tr>\n",
       "      <th>1</th>\n",
       "      <td>2</td>\n",
       "      <td>1</td>\n",
       "    </tr>\n",
       "    <tr>\n",
       "      <th>2</th>\n",
       "      <td>3</td>\n",
       "      <td>1</td>\n",
       "    </tr>\n",
       "    <tr>\n",
       "      <th>3</th>\n",
       "      <td>4</td>\n",
       "      <td>1</td>\n",
       "    </tr>\n",
       "    <tr>\n",
       "      <th>4</th>\n",
       "      <td>5</td>\n",
       "      <td>1</td>\n",
       "    </tr>\n",
       "    <tr>\n",
       "      <th>5</th>\n",
       "      <td>6</td>\n",
       "      <td>1</td>\n",
       "    </tr>\n",
       "    <tr>\n",
       "      <th>6</th>\n",
       "      <td>7</td>\n",
       "      <td>1</td>\n",
       "    </tr>\n",
       "    <tr>\n",
       "      <th>7</th>\n",
       "      <td>8</td>\n",
       "      <td>1</td>\n",
       "    </tr>\n",
       "    <tr>\n",
       "      <th>8</th>\n",
       "      <td>9</td>\n",
       "      <td>1</td>\n",
       "    </tr>\n",
       "    <tr>\n",
       "      <th>9</th>\n",
       "      <td>10</td>\n",
       "      <td>1</td>\n",
       "    </tr>\n",
       "  </tbody>\n",
       "</table>\n",
       "</div>"
      ],
      "text/plain": [
       "   ID  Category\n",
       "0   1         1\n",
       "1   2         1\n",
       "2   3         1\n",
       "3   4         1\n",
       "4   5         1\n",
       "5   6         1\n",
       "6   7         1\n",
       "7   8         1\n",
       "8   9         1\n",
       "9  10         1"
      ]
     },
     "execution_count": 5,
     "metadata": {},
     "output_type": "execute_result"
    }
   ],
   "source": [
    "output = pd.read_csv(\"/kaggle/input/fruitsml1/sample_submission.csv\")\n",
    "output.head(10)"
   ]
  },
  {
   "cell_type": "code",
   "execution_count": 6,
   "id": "b6db8ca1",
   "metadata": {
    "execution": {
     "iopub.execute_input": "2024-08-18T22:25:06.683203Z",
     "iopub.status.busy": "2024-08-18T22:25:06.682798Z",
     "iopub.status.idle": "2024-08-18T22:25:06.693244Z",
     "shell.execute_reply": "2024-08-18T22:25:06.692161Z"
    },
    "papermill": {
     "duration": 0.020369,
     "end_time": "2024-08-18T22:25:06.695519",
     "exception": false,
     "start_time": "2024-08-18T22:25:06.675150",
     "status": "completed"
    },
    "tags": []
   },
   "outputs": [],
   "source": [
    "x_train = dataset.drop(['label', 'Id'], axis = 1)\n",
    "y_train = dataset['label']"
   ]
  },
  {
   "cell_type": "code",
   "execution_count": 7,
   "id": "4ea421b5",
   "metadata": {
    "execution": {
     "iopub.execute_input": "2024-08-18T22:25:06.710179Z",
     "iopub.status.busy": "2024-08-18T22:25:06.709265Z",
     "iopub.status.idle": "2024-08-18T22:25:06.715631Z",
     "shell.execute_reply": "2024-08-18T22:25:06.714506Z"
    },
    "papermill": {
     "duration": 0.016257,
     "end_time": "2024-08-18T22:25:06.718071",
     "exception": false,
     "start_time": "2024-08-18T22:25:06.701814",
     "status": "completed"
    },
    "tags": []
   },
   "outputs": [],
   "source": [
    "x_test = test.drop('Id', axis = 1)\n",
    "y_test = output['Category']"
   ]
  },
  {
   "cell_type": "code",
   "execution_count": 8,
   "id": "d37858a7",
   "metadata": {
    "execution": {
     "iopub.execute_input": "2024-08-18T22:25:06.732217Z",
     "iopub.status.busy": "2024-08-18T22:25:06.731837Z",
     "iopub.status.idle": "2024-08-18T22:25:07.604797Z",
     "shell.execute_reply": "2024-08-18T22:25:07.603735Z"
    },
    "papermill": {
     "duration": 0.883217,
     "end_time": "2024-08-18T22:25:07.607578",
     "exception": false,
     "start_time": "2024-08-18T22:25:06.724361",
     "status": "completed"
    },
    "tags": []
   },
   "outputs": [
    {
     "data": {
      "text/plain": [
       "Text(0, 0.5, 'Accuracy')"
      ]
     },
     "execution_count": 8,
     "metadata": {},
     "output_type": "execute_result"
    },
    {
     "data": {
      "image/png": "[encoded data removed]",
      "text/plain": [
       "<Figure size 640x480 with 1 Axes>"
      ]
     },
     "metadata": {},
     "output_type": "display_data"
    }
   ],
   "source": [
    "for i in range (1, 40):\n",
    "    knn = KNeighborsClassifier(n_neighbors= i)\n",
    "    knn.fit(x_train, y_train)\n",
    "    y_pred1 = knn.predict(x_train)\n",
    "    y_pred2 = knn.predict(x_test)\n",
    "    acc1 = accuracy_score(y_train, y_pred1)\n",
    "    acc2 = accuracy_score(y_test, y_pred2)\n",
    "    plt.plot(i, acc1, 'r^')\n",
    "    plt.plot(i, acc2, 'b^')\n",
    "plt.xlabel('Number of nearest neighbors')\n",
    "plt.ylabel('Accuracy')"
   ]
  },
  {
   "cell_type": "code",
   "execution_count": 9,
   "id": "4a2911ba",
   "metadata": {
    "execution": {
     "iopub.execute_input": "2024-08-18T22:25:07.623340Z",
     "iopub.status.busy": "2024-08-18T22:25:07.622955Z",
     "iopub.status.idle": "2024-08-18T22:25:07.636559Z",
     "shell.execute_reply": "2024-08-18T22:25:07.635348Z"
    },
    "papermill": {
     "duration": 0.024054,
     "end_time": "2024-08-18T22:25:07.638907",
     "exception": false,
     "start_time": "2024-08-18T22:25:07.614853",
     "status": "completed"
    },
    "tags": []
   },
   "outputs": [
    {
     "data": {
      "text/html": [
       "<style>#sk-container-id-1 {color: black;background-color: white;}#sk-container-id-1 pre{padding: 0;}#sk-container-id-1 div.sk-toggleable {background-color: white;}#sk-container-id-1 label.sk-toggleable__label {cursor: pointer;display: block;width: 100%;margin-bottom: 0;padding: 0.3em;box-sizing: border-box;text-align: center;}#sk-container-id-1 label.sk-toggleable__label-arrow:before {content: \"▸\";float: left;margin-right: 0.25em;color: #696969;}#sk-container-id-1 label.sk-toggleable__label-arrow:hover:before {color: black;}#sk-container-id-1 div.sk-estimator:hover label.sk-toggleable__label-arrow:before {color: black;}#sk-container-id-1 div.sk-toggleable__content {max-height: 0;max-width: 0;overflow: hidden;text-align: left;background-color: #f0f8ff;}#sk-container-id-1 div.sk-toggleable__content pre {margin: 0.2em;color: black;border-radius: 0.25em;background-color: #f0f8ff;}#sk-container-id-1 input.sk-toggleable__control:checked~div.sk-toggleable__content {max-height: 200px;max-width: 100%;overflow: auto;}#sk-container-id-1 input.sk-toggleable__control:checked~label.sk-toggleable__label-arrow:before {content: \"▾\";}#sk-container-id-1 div.sk-estimator input.sk-toggleable__control:checked~label.sk-toggleable__label {background-color: #d4ebff;}#sk-container-id-1 div.sk-label input.sk-toggleable__control:checked~label.sk-toggleable__label {background-color: #d4ebff;}#sk-container-id-1 input.sk-hidden--visually {border: 0;clip: rect(1px 1px 1px 1px);clip: rect(1px, 1px, 1px, 1px);height: 1px;margin: -1px;overflow: hidden;padding: 0;position: absolute;width: 1px;}#sk-container-id-1 div.sk-estimator {font-family: monospace;background-color: #f0f8ff;border: 1px dotted black;border-radius: 0.25em;box-sizing: border-box;margin-bottom: 0.5em;}#sk-container-id-1 div.sk-estimator:hover {background-color: #d4ebff;}#sk-container-id-1 div.sk-parallel-item::after {content: \"\";width: 100%;border-bottom: 1px solid gray;flex-grow: 1;}#sk-container-id-1 div.sk-label:hover label.sk-toggleable__label {background-color: #d4ebff;}#sk-container-id-1 div.sk-serial::before {content: \"\";position: absolute;border-left: 1px solid gray;box-sizing: border-box;top: 0;bottom: 0;left: 50%;z-index: 0;}#sk-container-id-1 div.sk-serial {display: flex;flex-direction: column;align-items: center;background-color: white;padding-right: 0.2em;padding-left: 0.2em;position: relative;}#sk-container-id-1 div.sk-item {position: relative;z-index: 1;}#sk-container-id-1 div.sk-parallel {display: flex;align-items: stretch;justify-content: center;background-color: white;position: relative;}#sk-container-id-1 div.sk-item::before, #sk-container-id-1 div.sk-parallel-item::before {content: \"\";position: absolute;border-left: 1px solid gray;box-sizing: border-box;top: 0;bottom: 0;left: 50%;z-index: -1;}#sk-container-id-1 div.sk-parallel-item {display: flex;flex-direction: column;z-index: 1;position: relative;background-color: white;}#sk-container-id-1 div.sk-parallel-item:first-child::after {align-self: flex-end;width: 50%;}#sk-container-id-1 div.sk-parallel-item:last-child::after {align-self: flex-start;width: 50%;}#sk-container-id-1 div.sk-parallel-item:only-child::after {width: 0;}#sk-container-id-1 div.sk-dashed-wrapped {border: 1px dashed gray;margin: 0 0.4em 0.5em 0.4em;box-sizing: border-box;padding-bottom: 0.4em;background-color: white;}#sk-container-id-1 div.sk-label label {font-family: monospace;font-weight: bold;display: inline-block;line-height: 1.2em;}#sk-container-id-1 div.sk-label-container {text-align: center;}#sk-container-id-1 div.sk-container {/* jupyter's `normalize.less` sets `[hidden] { display: none; }` but bootstrap.min.css set `[hidden] { display: none !important; }` so we also need the `!important` here to be able to override the default hidden behavior on the sphinx rendered scikit-learn.org. See: https://github.com/scikit-learn/scikit-learn/issues/21755 */display: inline-block !important;position: relative;}#sk-container-id-1 div.sk-text-repr-fallback {display: none;}</style><div id=\"sk-container-id-1\" class=\"sk-top-container\"><div class=\"sk-text-repr-fallback\"><pre>KNeighborsClassifier(n_neighbors=11)</pre><b>In a Jupyter environment, please rerun this cell to show the HTML representation or trust the notebook. <br />On GitHub, the HTML representation is unable to render, please try loading this page with nbviewer.org.</b></div><div class=\"sk-container\" hidden><div class=\"sk-item\"><div class=\"sk-estimator sk-toggleable\"><input class=\"sk-toggleable__control sk-hidden--visually\" id=\"sk-estimator-id-1\" type=\"checkbox\" checked><label for=\"sk-estimator-id-1\" class=\"sk-toggleable__label sk-toggleable__label-arrow\">KNeighborsClassifier</label><div class=\"sk-toggleable__content\"><pre>KNeighborsClassifier(n_neighbors=11)</pre></div></div></div></div></div>"
      ],
      "text/plain": [
       "KNeighborsClassifier(n_neighbors=11)"
      ]
     },
     "execution_count": 9,
     "metadata": {},
     "output_type": "execute_result"
    }
   ],
   "source": [
    "knn = KNeighborsClassifier(n_neighbors= 11)\n",
    "knn.fit(x_train, y_train)"
   ]
  },
  {
   "cell_type": "code",
   "execution_count": 10,
   "id": "3c470a94",
   "metadata": {
    "execution": {
     "iopub.execute_input": "2024-08-18T22:25:07.654536Z",
     "iopub.status.busy": "2024-08-18T22:25:07.654138Z",
     "iopub.status.idle": "2024-08-18T22:25:07.666975Z",
     "shell.execute_reply": "2024-08-18T22:25:07.665818Z"
    },
    "papermill": {
     "duration": 0.023257,
     "end_time": "2024-08-18T22:25:07.669218",
     "exception": false,
     "start_time": "2024-08-18T22:25:07.645961",
     "status": "completed"
    },
    "tags": []
   },
   "outputs": [
    {
     "name": "stdout",
     "output_type": "stream",
     "text": [
      "Training Accuracy: 0.600\n"
     ]
    }
   ],
   "source": [
    "y_pred1 = knn.predict(x_train)\n",
    "acc = accuracy_score(y_pred1, y_train)\n",
    "print(f\"Training Accuracy: {acc:.3f}\")"
   ]
  },
  {
   "cell_type": "code",
   "execution_count": 11,
   "id": "4d0bd9e7",
   "metadata": {
    "execution": {
     "iopub.execute_input": "2024-08-18T22:25:07.684689Z",
     "iopub.status.busy": "2024-08-18T22:25:07.684181Z",
     "iopub.status.idle": "2024-08-18T22:25:07.698597Z",
     "shell.execute_reply": "2024-08-18T22:25:07.697245Z"
    },
    "papermill": {
     "duration": 0.025133,
     "end_time": "2024-08-18T22:25:07.701169",
     "exception": false,
     "start_time": "2024-08-18T22:25:07.676036",
     "status": "completed"
    },
    "tags": []
   },
   "outputs": [
    {
     "name": "stdout",
     "output_type": "stream",
     "text": [
      "Testing Accuracy: 0.714\n"
     ]
    }
   ],
   "source": [
    "y_pred2 = knn.predict(x_test)\n",
    "acc = accuracy_score(y_pred2, y_test)\n",
    "print(f\"Testing Accuracy: {acc:.3f}\")"
   ]
  },
  {
   "cell_type": "code",
   "execution_count": 12,
   "id": "24e7b206",
   "metadata": {
    "execution": {
     "iopub.execute_input": "2024-08-18T22:25:07.717164Z",
     "iopub.status.busy": "2024-08-18T22:25:07.716765Z",
     "iopub.status.idle": "2024-08-18T22:25:07.725838Z",
     "shell.execute_reply": "2024-08-18T22:25:07.724751Z"
    },
    "papermill": {
     "duration": 0.019719,
     "end_time": "2024-08-18T22:25:07.728188",
     "exception": false,
     "start_time": "2024-08-18T22:25:07.708469",
     "status": "completed"
    },
    "tags": []
   },
   "outputs": [
    {
     "name": "stdout",
     "output_type": "stream",
     "text": [
      "[[10  1  3]\n",
      " [ 0  0  0]\n",
      " [ 0  0  0]]\n"
     ]
    }
   ],
   "source": [
    "cm = confusion_matrix(y_test, y_pred2)\n",
    "print(cm)"
   ]
  },
  {
   "cell_type": "code",
   "execution_count": 13,
   "id": "f6253c9b",
   "metadata": {
    "execution": {
     "iopub.execute_input": "2024-08-18T22:25:07.744285Z",
     "iopub.status.busy": "2024-08-18T22:25:07.743872Z",
     "iopub.status.idle": "2024-08-18T22:25:07.769545Z",
     "shell.execute_reply": "2024-08-18T22:25:07.768057Z"
    },
    "papermill": {
     "duration": 0.03673,
     "end_time": "2024-08-18T22:25:07.772115",
     "exception": false,
     "start_time": "2024-08-18T22:25:07.735385",
     "status": "completed"
    },
    "tags": []
   },
   "outputs": [
    {
     "name": "stdout",
     "output_type": "stream",
     "text": [
      "\n",
      "Classification Report:\n",
      "              precision    recall  f1-score   support\n",
      "\n",
      "           1       1.00      0.71      0.83        14\n",
      "           2       0.00      0.00      0.00         0\n",
      "           3       0.00      0.00      0.00         0\n",
      "\n",
      "    accuracy                           0.71        14\n",
      "   macro avg       0.33      0.24      0.28        14\n",
      "weighted avg       1.00      0.71      0.83        14\n",
      "\n"
     ]
    },
    {
     "name": "stderr",
     "output_type": "stream",
     "text": [
      "/opt/conda/lib/python3.10/site-packages/sklearn/metrics/_classification.py:1344: UndefinedMetricWarning: Recall and F-score are ill-defined and being set to 0.0 in labels with no true samples. Use `zero_division` parameter to control this behavior.\n",
      "  _warn_prf(average, modifier, msg_start, len(result))\n",
      "/opt/conda/lib/python3.10/site-packages/sklearn/metrics/_classification.py:1344: UndefinedMetricWarning: Recall and F-score are ill-defined and being set to 0.0 in labels with no true samples. Use `zero_division` parameter to control this behavior.\n",
      "  _warn_prf(average, modifier, msg_start, len(result))\n",
      "/opt/conda/lib/python3.10/site-packages/sklearn/metrics/_classification.py:1344: UndefinedMetricWarning: Recall and F-score are ill-defined and being set to 0.0 in labels with no true samples. Use `zero_division` parameter to control this behavior.\n",
      "  _warn_prf(average, modifier, msg_start, len(result))\n"
     ]
    }
   ],
   "source": [
    "knn.score(x_test, y_test)\n",
    "print(\"\\nClassification Report:\")\n",
    "print(classification_report(y_test, y_pred2))"
   ]
  },
  {
   "cell_type": "code",
   "execution_count": 14,
   "id": "a5c5d876",
   "metadata": {
    "execution": {
     "iopub.execute_input": "2024-08-18T22:25:07.789706Z",
     "iopub.status.busy": "2024-08-18T22:25:07.789295Z",
     "iopub.status.idle": "2024-08-18T22:25:15.663302Z",
     "shell.execute_reply": "2024-08-18T22:25:15.662182Z"
    },
    "papermill": {
     "duration": 7.88604,
     "end_time": "2024-08-18T22:25:15.665558",
     "exception": false,
     "start_time": "2024-08-18T22:25:07.779518",
     "status": "completed"
    },
    "tags": []
   },
   "outputs": [
    {
     "data": {
      "text/plain": [
       "Text(0, 0.5, 'Accuracy')"
      ]
     },
     "execution_count": 14,
     "metadata": {},
     "output_type": "execute_result"
    },
    {
     "data": {
      "image/png": "[encoded data removed]",
      "text/plain": [
       "<Figure size 640x480 with 1 Axes>"
      ]
     },
     "metadata": {},
     "output_type": "display_data"
    }
   ],
   "source": [
    "for i in range (1, 90):\n",
    "    rfc = RandomForestClassifier(n_estimators = i, random_state = 45)\n",
    "    rfc.fit(x_train, y_train)\n",
    "    y_pred1 = knn.predict(x_train)\n",
    "    y_pred2 = knn.predict(x_test)\n",
    "    acc1 = accuracy_score(y_train, y_pred1)\n",
    "    acc2 = accuracy_score(y_test, y_pred2)\n",
    "    plt.plot(i, acc1, 'r^')\n",
    "    plt.plot(i, acc2, 'b^')\n",
    "plt.xlabel('Number of nearest neighbors')\n",
    "plt.ylabel('Accuracy')"
   ]
  },
  {
   "cell_type": "code",
   "execution_count": 15,
   "id": "671503ff",
   "metadata": {
    "execution": {
     "iopub.execute_input": "2024-08-18T22:25:15.682638Z",
     "iopub.status.busy": "2024-08-18T22:25:15.682241Z",
     "iopub.status.idle": "2024-08-18T22:25:15.832801Z",
     "shell.execute_reply": "2024-08-18T22:25:15.831749Z"
    },
    "papermill": {
     "duration": 0.161899,
     "end_time": "2024-08-18T22:25:15.835238",
     "exception": false,
     "start_time": "2024-08-18T22:25:15.673339",
     "status": "completed"
    },
    "tags": []
   },
   "outputs": [
    {
     "data": {
      "text/html": [
       "<style>#sk-container-id-2 {color: black;background-color: white;}#sk-container-id-2 pre{padding: 0;}#sk-container-id-2 div.sk-toggleable {background-color: white;}#sk-container-id-2 label.sk-toggleable__label {cursor: pointer;display: block;width: 100%;margin-bottom: 0;padding: 0.3em;box-sizing: border-box;text-align: center;}#sk-container-id-2 label.sk-toggleable__label-arrow:before {content: \"▸\";float: left;margin-right: 0.25em;color: #696969;}#sk-container-id-2 label.sk-toggleable__label-arrow:hover:before {color: black;}#sk-container-id-2 div.sk-estimator:hover label.sk-toggleable__label-arrow:before {color: black;}#sk-container-id-2 div.sk-toggleable__content {max-height: 0;max-width: 0;overflow: hidden;text-align: left;background-color: #f0f8ff;}#sk-container-id-2 div.sk-toggleable__content pre {margin: 0.2em;color: black;border-radius: 0.25em;background-color: #f0f8ff;}#sk-container-id-2 input.sk-toggleable__control:checked~div.sk-toggleable__content {max-height: 200px;max-width: 100%;overflow: auto;}#sk-container-id-2 input.sk-toggleable__control:checked~label.sk-toggleable__label-arrow:before {content: \"▾\";}#sk-container-id-2 div.sk-estimator input.sk-toggleable__control:checked~label.sk-toggleable__label {background-color: #d4ebff;}#sk-container-id-2 div.sk-label input.sk-toggleable__control:checked~label.sk-toggleable__label {background-color: #d4ebff;}#sk-container-id-2 input.sk-hidden--visually {border: 0;clip: rect(1px 1px 1px 1px);clip: rect(1px, 1px, 1px, 1px);height: 1px;margin: -1px;overflow: hidden;padding: 0;position: absolute;width: 1px;}#sk-container-id-2 div.sk-estimator {font-family: monospace;background-color: #f0f8ff;border: 1px dotted black;border-radius: 0.25em;box-sizing: border-box;margin-bottom: 0.5em;}#sk-container-id-2 div.sk-estimator:hover {background-color: #d4ebff;}#sk-container-id-2 div.sk-parallel-item::after {content: \"\";width: 100%;border-bottom: 1px solid gray;flex-grow: 1;}#sk-container-id-2 div.sk-label:hover label.sk-toggleable__label {background-color: #d4ebff;}#sk-container-id-2 div.sk-serial::before {content: \"\";position: absolute;border-left: 1px solid gray;box-sizing: border-box;top: 0;bottom: 0;left: 50%;z-index: 0;}#sk-container-id-2 div.sk-serial {display: flex;flex-direction: column;align-items: center;background-color: white;padding-right: 0.2em;padding-left: 0.2em;position: relative;}#sk-container-id-2 div.sk-item {position: relative;z-index: 1;}#sk-container-id-2 div.sk-parallel {display: flex;align-items: stretch;justify-content: center;background-color: white;position: relative;}#sk-container-id-2 div.sk-item::before, #sk-container-id-2 div.sk-parallel-item::before {content: \"\";position: absolute;border-left: 1px solid gray;box-sizing: border-box;top: 0;bottom: 0;left: 50%;z-index: -1;}#sk-container-id-2 div.sk-parallel-item {display: flex;flex-direction: column;z-index: 1;position: relative;background-color: white;}#sk-container-id-2 div.sk-parallel-item:first-child::after {align-self: flex-end;width: 50%;}#sk-container-id-2 div.sk-parallel-item:last-child::after {align-self: flex-start;width: 50%;}#sk-container-id-2 div.sk-parallel-item:only-child::after {width: 0;}#sk-container-id-2 div.sk-dashed-wrapped {border: 1px dashed gray;margin: 0 0.4em 0.5em 0.4em;box-sizing: border-box;padding-bottom: 0.4em;background-color: white;}#sk-container-id-2 div.sk-label label {font-family: monospace;font-weight: bold;display: inline-block;line-height: 1.2em;}#sk-container-id-2 div.sk-label-container {text-align: center;}#sk-container-id-2 div.sk-container {/* jupyter's `normalize.less` sets `[hidden] { display: none; }` but bootstrap.min.css set `[hidden] { display: none !important; }` so we also need the `!important` here to be able to override the default hidden behavior on the sphinx rendered scikit-learn.org. See: https://github.com/scikit-learn/scikit-learn/issues/21755 */display: inline-block !important;position: relative;}#sk-container-id-2 div.sk-text-repr-fallback {display: none;}</style><div id=\"sk-container-id-2\" class=\"sk-top-container\"><div class=\"sk-text-repr-fallback\"><pre>RandomForestClassifier(n_estimators=89, random_state=45)</pre><b>In a Jupyter environment, please rerun this cell to show the HTML representation or trust the notebook. <br />On GitHub, the HTML representation is unable to render, please try loading this page with nbviewer.org.</b></div><div class=\"sk-container\" hidden><div class=\"sk-item\"><div class=\"sk-estimator sk-toggleable\"><input class=\"sk-toggleable__control sk-hidden--visually\" id=\"sk-estimator-id-2\" type=\"checkbox\" checked><label for=\"sk-estimator-id-2\" class=\"sk-toggleable__label sk-toggleable__label-arrow\">RandomForestClassifier</label><div class=\"sk-toggleable__content\"><pre>RandomForestClassifier(n_estimators=89, random_state=45)</pre></div></div></div></div></div>"
      ],
      "text/plain": [
       "RandomForestClassifier(n_estimators=89, random_state=45)"
      ]
     },
     "execution_count": 15,
     "metadata": {},
     "output_type": "execute_result"
    }
   ],
   "source": [
    "rfc = RandomForestClassifier(n_estimators = i, random_state = 45)\n",
    "rfc.fit(x_train, y_train)"
   ]
  },
  {
   "cell_type": "code",
   "execution_count": 16,
   "id": "5d62de50",
   "metadata": {
    "execution": {
     "iopub.execute_input": "2024-08-18T22:25:15.853105Z",
     "iopub.status.busy": "2024-08-18T22:25:15.852699Z",
     "iopub.status.idle": "2024-08-18T22:25:15.868201Z",
     "shell.execute_reply": "2024-08-18T22:25:15.867112Z"
    },
    "papermill": {
     "duration": 0.027233,
     "end_time": "2024-08-18T22:25:15.870635",
     "exception": false,
     "start_time": "2024-08-18T22:25:15.843402",
     "status": "completed"
    },
    "tags": []
   },
   "outputs": [
    {
     "name": "stdout",
     "output_type": "stream",
     "text": [
      "Training Accuracy: 0.600\n"
     ]
    }
   ],
   "source": [
    "y_pred1 = knn.predict(x_train)\n",
    "acc = accuracy_score(y_pred1, y_train)\n",
    "print(f\"Training Accuracy: {acc:.3f}\")"
   ]
  },
  {
   "cell_type": "code",
   "execution_count": 17,
   "id": "1a6d76a8",
   "metadata": {
    "execution": {
     "iopub.execute_input": "2024-08-18T22:25:15.888157Z",
     "iopub.status.busy": "2024-08-18T22:25:15.887770Z",
     "iopub.status.idle": "2024-08-18T22:25:15.904332Z",
     "shell.execute_reply": "2024-08-18T22:25:15.902914Z"
    },
    "papermill": {
     "duration": 0.028296,
     "end_time": "2024-08-18T22:25:15.906818",
     "exception": false,
     "start_time": "2024-08-18T22:25:15.878522",
     "status": "completed"
    },
    "tags": []
   },
   "outputs": [
    {
     "name": "stdout",
     "output_type": "stream",
     "text": [
      "Testing Accuracy: 0.500\n"
     ]
    }
   ],
   "source": [
    "y_pred2 = rfc.predict(x_test)\n",
    "acc = accuracy_score(y_pred2, y_test)\n",
    "print(f\"Testing Accuracy: {acc:.3f}\")"
   ]
  },
  {
   "cell_type": "code",
   "execution_count": 18,
   "id": "bed5f1da",
   "metadata": {
    "execution": {
     "iopub.execute_input": "2024-08-18T22:25:15.925143Z",
     "iopub.status.busy": "2024-08-18T22:25:15.924751Z",
     "iopub.status.idle": "2024-08-18T22:25:15.933297Z",
     "shell.execute_reply": "2024-08-18T22:25:15.932034Z"
    },
    "papermill": {
     "duration": 0.020497,
     "end_time": "2024-08-18T22:25:15.935630",
     "exception": false,
     "start_time": "2024-08-18T22:25:15.915133",
     "status": "completed"
    },
    "tags": []
   },
   "outputs": [
    {
     "name": "stdout",
     "output_type": "stream",
     "text": [
      "[[7 2 5]\n",
      " [0 0 0]\n",
      " [0 0 0]]\n"
     ]
    }
   ],
   "source": [
    "cm = confusion_matrix(y_test, y_pred2)\n",
    "print(cm)"
   ]
  },
  {
   "cell_type": "code",
   "execution_count": 19,
   "id": "b8968eaf",
   "metadata": {
    "execution": {
     "iopub.execute_input": "2024-08-18T22:25:15.953915Z",
     "iopub.status.busy": "2024-08-18T22:25:15.953509Z",
     "iopub.status.idle": "2024-08-18T22:25:15.970330Z",
     "shell.execute_reply": "2024-08-18T22:25:15.969262Z"
    },
    "papermill": {
     "duration": 0.028527,
     "end_time": "2024-08-18T22:25:15.972633",
     "exception": false,
     "start_time": "2024-08-18T22:25:15.944106",
     "status": "completed"
    },
    "tags": []
   },
   "outputs": [
    {
     "data": {
      "text/plain": [
       "0.5"
      ]
     },
     "execution_count": 19,
     "metadata": {},
     "output_type": "execute_result"
    }
   ],
   "source": [
    "rfc.score(x_test, y_test)"
   ]
  },
  {
   "cell_type": "code",
   "execution_count": 20,
   "id": "f81df565",
   "metadata": {
    "execution": {
     "iopub.execute_input": "2024-08-18T22:25:15.991201Z",
     "iopub.status.busy": "2024-08-18T22:25:15.990836Z",
     "iopub.status.idle": "2024-08-18T22:25:16.009692Z",
     "shell.execute_reply": "2024-08-18T22:25:16.008127Z"
    },
    "papermill": {
     "duration": 0.031604,
     "end_time": "2024-08-18T22:25:16.012471",
     "exception": false,
     "start_time": "2024-08-18T22:25:15.980867",
     "status": "completed"
    },
    "tags": []
   },
   "outputs": [
    {
     "name": "stdout",
     "output_type": "stream",
     "text": [
      "\n",
      "Classification Report:\n",
      "              precision    recall  f1-score   support\n",
      "\n",
      "           1       1.00      0.50      0.67        14\n",
      "           2       0.00      0.00      0.00         0\n",
      "           3       0.00      0.00      0.00         0\n",
      "\n",
      "    accuracy                           0.50        14\n",
      "   macro avg       0.33      0.17      0.22        14\n",
      "weighted avg       1.00      0.50      0.67        14\n",
      "\n"
     ]
    },
    {
     "name": "stderr",
     "output_type": "stream",
     "text": [
      "/opt/conda/lib/python3.10/site-packages/sklearn/metrics/_classification.py:1344: UndefinedMetricWarning: Recall and F-score are ill-defined and being set to 0.0 in labels with no true samples. Use `zero_division` parameter to control this behavior.\n",
      "  _warn_prf(average, modifier, msg_start, len(result))\n",
      "/opt/conda/lib/python3.10/site-packages/sklearn/metrics/_classification.py:1344: UndefinedMetricWarning: Recall and F-score are ill-defined and being set to 0.0 in labels with no true samples. Use `zero_division` parameter to control this behavior.\n",
      "  _warn_prf(average, modifier, msg_start, len(result))\n",
      "/opt/conda/lib/python3.10/site-packages/sklearn/metrics/_classification.py:1344: UndefinedMetricWarning: Recall and F-score are ill-defined and being set to 0.0 in labels with no true samples. Use `zero_division` parameter to control this behavior.\n",
      "  _warn_prf(average, modifier, msg_start, len(result))\n"
     ]
    }
   ],
   "source": [
    "print(\"\\nClassification Report:\")\n",
    "print(classification_report(y_test, y_pred2))"
   ]
  },
  {
   "cell_type": "code",
   "execution_count": 21,
   "id": "a4a7bdaa",
   "metadata": {
    "execution": {
     "iopub.execute_input": "2024-08-18T22:25:16.031654Z",
     "iopub.status.busy": "2024-08-18T22:25:16.031205Z",
     "iopub.status.idle": "2024-08-18T22:25:16.040121Z",
     "shell.execute_reply": "2024-08-18T22:25:16.039006Z"
    },
    "papermill": {
     "duration": 0.021407,
     "end_time": "2024-08-18T22:25:16.042730",
     "exception": false,
     "start_time": "2024-08-18T22:25:16.021323",
     "status": "completed"
    },
    "tags": []
   },
   "outputs": [],
   "source": [
    "output = pd.DataFrame({'ID': test.Id, 'Category': y_pred2})\n",
    "output.to_csv('submission.csv', index=False)"
   ]
  }
 ],
 "metadata": {
  "kaggle": {
   "accelerator": "none",
   "dataSources": [
    {
     "databundleVersionId": 9308297,
     "sourceId": 83691,
     "sourceType": "competition"
    },
    {
     "datasetId": 5525690,
     "sourceId": 9147950,
     "sourceType": "datasetVersion"
    }
   ],
   "dockerImageVersionId": 30746,
   "isGpuEnabled": false,
   "isInternetEnabled": true,
   "language": "python",
   "sourceType": "notebook"
  },
  "kernelspec": {
   "display_name": "Python 3",
   "language": "python",
   "name": "python3"
  },
  "language_info": {
   "codemirror_mode": {
    "name": "ipython",
    "version": 3
   },
   "file_extension": ".py",
   "mimetype": "text/x-python",
   "name": "python",
   "nbconvert_exporter": "python",
   "pygments_lexer": "ipython3",
   "version": "3.10.13"
  },
  "papermill": {
   "default_parameters": {},
   "duration": 16.026834,
   "end_time": "2024-08-18T22:25:16.672271",
   "environment_variables": {},
   "exception": null,
   "input_path": "__notebook__.ipynb",
   "output_path": "__notebook__.ipynb",
   "parameters": {},
   "start_time": "2024-08-18T22:25:00.645437",
   "version": "2.5.0"
  }
 },
 "nbformat": 4,
 "nbformat_minor": 5
}
